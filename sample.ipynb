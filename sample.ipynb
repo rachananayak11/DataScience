{
 "cells": [
  {
   "cell_type": "code",
   "execution_count": null,
   "id": "21488581-ebb2-43c9-b2ad-aa8c643f3b9a",
   "metadata": {},
   "outputs": [],
   "source": [
    "a,b = 3,5\n",
    "print(a+b)\n",
    "\n"
   ]
  }
 ],
 "metadata": {
  "kernelspec": {
   "display_name": "Python",
   "language": "python",
   "name": "conda-env-python-py"
  },
  "language_info": {
   "codemirror_mode": {
    "name": "ipython",
    "version": 3
   },
   "file_extension": ".py",
   "mimetype": "text/x-python",
   "name": "python",
   "nbconvert_exporter": "python",
   "pygments_lexer": "ipython3",
   "version": "3.7.12"
  }
 },
 "nbformat": 4,
 "nbformat_minor": 5
}
